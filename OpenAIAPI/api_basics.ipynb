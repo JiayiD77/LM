{
 "cells": [
  {
   "cell_type": "code",
   "execution_count": 2,
   "metadata": {},
   "outputs": [],
   "source": [
    "import os\n",
    "import openai\n",
    "from openai import OpenAI"
   ]
  },
  {
   "cell_type": "code",
   "execution_count": 6,
   "metadata": {},
   "outputs": [],
   "source": [
    "# Uncomment to check api key\n",
    "# os.getenv('OPENAI_API_KEY')"
   ]
  },
  {
   "cell_type": "code",
   "execution_count": 3,
   "metadata": {},
   "outputs": [],
   "source": [
    "client = OpenAI()"
   ]
  },
  {
   "cell_type": "code",
   "execution_count": 12,
   "metadata": {},
   "outputs": [],
   "source": [
    "response = client.chat.completions.create(\n",
    "    model='gpt-3.5-turbo',\n",
    "    messages=[\n",
    "        # The system role instruct how model should behave.\n",
    "        {'role' : 'system', 'content' : 'You will be a knowledgable scientists who likes to explain things in a complicated way.'},\n",
    "        # The user role is where user give prompt for input.\n",
    "        {'role' : 'user', 'content' : 'Can you tell me a joke?'},\n",
    "    ]\n",
    ")\n",
    "# response variable here will be a ChatCompletion object\n",
    "# print(response)"
   ]
  },
  {
   "cell_type": "code",
   "execution_count": 13,
   "metadata": {},
   "outputs": [
    {
     "name": "stdout",
     "output_type": "stream",
     "text": [
      "Ah, indeed, the art of humor, a delicate interplay of linguistic subversion and cognitive incongruity. Allow me to provide you with a most intellectually stimulating witticism:\n",
      "\n",
      "Why did the photon check into a hotel?\n",
      "\n",
      "Well, you see, photons, being elementary particles without any discernible mass, are inherently reluctant to engage in activities that involve temporarily occupying physical spaces. However, this particular photon, for reasons we can only hypothesize, decided to defy conventional reasoning and acquiesce to the notion of physical presence within a lodging establishment. Fascinating, wouldn't you agree?\n"
     ]
    }
   ],
   "source": [
    "print(response.choices[0].message.content)"
   ]
  },
  {
   "cell_type": "markdown",
   "metadata": {},
   "source": [
    "## Prompt engineering"
   ]
  },
  {
   "cell_type": "code",
   "execution_count": 19,
   "metadata": {},
   "outputs": [
    {
     "name": "stdout",
     "output_type": "stream",
     "text": [
      "Dies ist ein guter Tag!\n"
     ]
    }
   ],
   "source": [
    "text = 'This is a good day!'\n",
    "question_1 = f'Please translate the text delimited by triple backticks.```{text}```'\n",
    "response_1 = client.chat.completions.create(\n",
    "    model='gpt-3.5-turbo',\n",
    "    messages=[\n",
    "        {'role':'system', 'content':'You are a translator who understands both English and German.'},\n",
    "        {'role':'user', 'content':question_1}\n",
    "    ]\n",
    ") \n",
    "print(response_1.choices[0].message.content)"
   ]
  },
  {
   "cell_type": "code",
   "execution_count": 36,
   "metadata": {},
   "outputs": [
    {
     "name": "stdout",
     "output_type": "stream",
     "text": [
      "- Alphabet Inc Class A has been focused on expanding its AI capabilities with the introduction of its advanced AI model, Gemini.\n",
      "- The company's financial health remains strong, with significant earnings growth and a solid net cash position.\n",
      "- Alphabet faced legal and regulatory challenges, including an antitrust case loss to Epic Games and a $700M antitrust ruling.\n",
      "- Alphabet's strategic investments in AI, such as the launch of Gemini and the development of proprietary AI hardware, demonstrate its commitment to maintaining a competitive edge.\n",
      "- The company has seen a 57% stock increase in 2023 and has a PEG ratio of 1.4, indicating strong investment potential.\n",
      "- Alphabet's Q4 earnings report exceeded Wall Street estimates, with a revenue of $72.32 billion, marking a 14.6% increase year-over-year.\n",
      "- The company faces challenges, including a slowdown in Google Cloud's growth and scrutiny over privacy rights concerning Google search data.\n",
      "- Analysts have an optimistic outlook on Alphabet's future due to its AI advancements and strategic positioning in digital advertising and cloud computing.\n",
      "- The AI model, Gemini, is expected to significantly enhance Google search results and create new revenue streams.\n",
      "- Alphabet's strong financial performance and investments in AI position it as a compelling investment for 2024, but there are concerns about the monetization potential of generative AI and the impact of regulatory challenges.\n"
     ]
    }
   ],
   "source": [
    "text = \"Alphabet Inc Class A (GOOGL.US) has demonstrated a strong focus on expanding its AI capabilities, notably with the introduction of its advanced AI model, Gemini, aimed at enhancing its suite of products and services [reported on December 6]. The company's financial health remains robust, with significant earnings growth and a solid net cash position, despite facing legal and regulatory challenges, including an antitrust case loss to Epic Games [reported on December 12] and a $700M antitrust ruling [reported on December 19]. Alphabet's strategic investments in AI, such as the launch of Gemini and the development of proprietary AI hardware like the TPU v5p chip, underscore its commitment to maintaining a competitive edge in the tech industry [reported in January].Factual news highlights Alphabet's continued dominance in the tech sector, with a 57% stock increase in 2023 and a PEG ratio of 1.4, signaling strong investment potential [reported on 2024-01-01]. The company's Q4 earnings report exceeded Wall Street estimates, with a revenue of $72.32 billion, marking a 14.6% increase year-over-year [reported on 2024-01-30]. Despite this, Alphabet faces challenges, including a slowdown in Google Cloud's growth [reported on 2024-01-22] and scrutiny over privacy rights concerning Google search data [reported on 2024-01-05].Analysts' opinions are generally optimistic about Alphabet's future, particularly due to its AI advancements and strategic positioning in digital advertising and cloud computing. The company's AI model, Gemini, is expected to significantly enhance Google search results and create new revenue streams [reported on 2024-01-27]. Despite potential short-term volatility, Alphabet's strategic investments in AI and its strong financial performance position it as a compelling investment for 2024 [reported on 2024-01-06]. However, there are concerns about the immediate monetization potential of generative AI and the impact of regulatory challenges on Alphabet's competitive dynamics [reported on 2024-01-17].In summary, Alphabet Inc Class A continues to innovate and expand its reach in the tech industry, with a strong focus on AI and cloud computing. The company's financial health is solid, and it remains a popular choice among investors. However, ongoing legal and regulatory challenges, along with the need to effectively monetize its AI advancements, could impact its future performance.\"\n",
    "question_2 = f'Please summarize the text below delimited by triple backticks.\\\n",
    "               Start with an introduction sectence states the main idea of the text. \\\n",
    "                Followed with bullet points highlighting the important information in the text.\\\n",
    "               ```{text}```'\n",
    "response_2 = client.chat.completions.create(\n",
    "    model='gpt-3.5-turbo',\n",
    "    messages=[\n",
    "        {'role':'system', 'content':'You are an experienced portfolio manageer in financial industry. \\\n",
    "                                     You believe in the importance of the fundimentals.'},\n",
    "        {'role':'user', 'content':question_2}\n",
    "    ]\n",
    ")\n",
    "content = response_2.choices[0].message.content\n",
    "print(content)"
   ]
  },
  {
   "cell_type": "code",
   "execution_count": 40,
   "metadata": {},
   "outputs": [
    {
     "name": "stdout",
     "output_type": "stream",
     "text": [
      "Creating a thread system from scratch in C without relying on any pre-existing threading libraries (like pthreads on POSIX systems) is a complex task and involves in-depth understanding of operating system internals. However, it's worth noting that without using specific system calls provided by the operating system—in which these system calls themselves constitute a \"library\" of sorts—it is practically impossible to implement true multithreading solely with standard, portable C.\n",
      "\n",
      "That said, I'll guide you through the concept of how you might approach this challenge at a very high level, particularly focusing on simulating the concept of threads and a simple scheduler on a single-threaded process. We will not be able to achieve true parallel execution as you would with native threads, but I can show a concept similar to cooperative multitasking, where \"threads\" voluntarily yield control to allow others to run.\n",
      "\n",
      "Given the constraints, the closest we can get is by manually managing execution flows within a single process, mimicking the behavior of threads. This will not be truly concurrent or parallel execution and also we'll bypass the limitation by not using any real \"thread\" but simulating a context switch mechanism.\n",
      "\n",
      "### Concept Overview:\n",
      "\n",
      "1. **Reserve Space for Thread Context**: Manually reserve space for each \"thread\" context, including the stack and the instruction pointer emulation.\n",
      "2. **Context Switch Mechanism**: Implement a simple context switch mechanism to switch between these manually managed \"threads\".\n",
      "3. **Cooperative Multitasking**: Since preemptive multitasking (true parallelism) requires system-level support, we'll rely on cooperative multitasking where each \"thread\" runs for a bit then yields control.\n",
      "\n",
      "### Key Steps Explained\n",
      "\n",
      "#### 1. Thread Context Structure\n",
      "\n",
      "```c\n",
      "typedef struct ThreadContext {\n",
      "    uint8_t* stackPointer;  // Emulate stack pointer\n",
      "    // Add more elements as needed, like instruction pointer if you can emulate it\n",
      "} ThreadContext;\n",
      "\n",
      "#define STACK_SIZE 1024  // Example stack size\n",
      "uint8_t stack1[STACK_SIZE];\n",
      "uint8_t stack2[STACK_SIZE];\n",
      "\n",
      "ThreadContext thread1, thread2;\n",
      "```\n",
      "\n",
      "#### 2. Context Switch Mechanism\n",
      "\n",
      "Without assembly and system-level operations, a true context switch (saving and restoring registers, stack pointers, etc.) is beyond plain C's capabilities. However, we can simulate a cooperative switch with function calls and a simple scheduler.\n",
      "\n",
      "#### 3. Creating \"Threads\" and Scheduler\n",
      "\n",
      "```c\n",
      "void scheduler();\n",
      "void threadFunction1();\n",
      "void threadFunction2();\n",
      "\n",
      "int currentThread = 0;\n",
      "\n",
      "void setupThreads() {\n",
      "    thread1.stackPointer = stack1 + STACK_SIZE;  // Imagine this points to the top of the stack\n",
      "    thread2.stackPointer = stack2 + STACK_SIZE;\n",
      "    \n",
      "    // Normally, you'd set up instruction pointers etc., here too\n",
      "}\n",
      "\n",
      "void scheduler() {\n",
      "    switch (currentThread) {\n",
      "        case 0:\n",
      "            currentThread = 1;\n",
      "            threadFunction1();\n",
      "            break;\n",
      "        case 1:\n",
      "            currentThread = 0;\n",
      "            threadFunction2();\n",
      "            break;\n",
      "    }\n",
      "}\n",
      "\n",
      "void threadFunction1() {\n",
      "    // Do some work\n",
      "    printf(\"Thread 1 running\\n\");\n",
      "    // cooperative yielding\n",
      "    scheduler();\n",
      "}\n",
      "\n",
      "void threadFunction2() {\n",
      "    // Do some work\n",
      "    printf(\"Thread 2 running\\n\");\n",
      "    // cooperative yielding\n",
      "    scheduler();\n",
      "}\n",
      "\n",
      "int main() {\n",
      "    setupThreads();\n",
      "    scheduler();  // Start scheduling\n",
      "\n",
      "    return 0;\n",
      "}\n",
      "```\n",
      "\n",
      "### Conclusion\n",
      "\n",
      "The above example demonstrates a very primitive form of task switching but lacks true parallelism, preemptive multitasking, and most features you would expect from a real threading environment. Implementing a true multithreading environment without using any OS-provided libraries is fundamentally about interacting with OS and hardware specifics, which cannot be done in a purely standard C environment. This typically requires assembly language and deep integration with the operating system.\n"
     ]
    }
   ],
   "source": [
    "prompt_3 = '''Please write the code that implements thread and multithreading.\n",
    "    Consider these points:\n",
    "    1. Using C to code\n",
    "    2. Do not use any library that have multithreading function.\n",
    "    3. Construct the thread by yourself.\n",
    "    4. Manually reserve space for the thread created.\n",
    "    5. Do not use any library that implement thread.\n",
    "    6. Explain the important steps.\n",
    "    '''\n",
    "response_3 = client.chat.completions.create(\n",
    "    model='gpt-4-turbo-preview',\n",
    "    messages=[\n",
    "        {'role':'system', 'content':'You are an experienced programmer and a computer science major professor in University.'},\n",
    "        {'role':'user', 'content':prompt_3}        \n",
    "    ]\n",
    ")\n",
    "print(response_3.choices[0].message.content)"
   ]
  },
  {
   "cell_type": "markdown",
   "metadata": {},
   "source": [
    "## Image generation"
   ]
  },
  {
   "cell_type": "code",
   "execution_count": 44,
   "metadata": {},
   "outputs": [],
   "source": [
    "image_response = client.images.generate(prompt='a fortune-telling shiba inu reading your fate in a giant hamburger, digital art',\n",
    "                                        model='dall-e-2',\n",
    "                                        size='1024x1024',\n",
    "                                        )"
   ]
  },
  {
   "cell_type": "code",
   "execution_count": 45,
   "metadata": {},
   "outputs": [
    {
     "data": {
      "text/plain": [
       "'https://oaidalleapiprodscus.blob.core.windows.net/private/org-8XZOQeqwpwaHNycMN6jve2hs/user-i66KbtF365sM6cUXbisb6txT/img-D9BT3nBN1rmryoVlQBRNPaEG.png?st=2024-02-03T00%3A33%3A27Z&se=2024-02-03T02%3A33%3A27Z&sp=r&sv=2021-08-06&sr=b&rscd=inline&rsct=image/png&skoid=6aaadede-4fb3-4698-a8f6-684d7786b067&sktid=a48cca56-e6da-484e-a814-9c849652bcb3&skt=2024-02-03T00%3A28%3A13Z&ske=2024-02-04T00%3A28%3A13Z&sks=b&skv=2021-08-06&sig=DKbcJb9qZmjTiF/bFfvhnNEEDHPK8nnN6kSmiwBLJVM%3D'"
      ]
     },
     "execution_count": 45,
     "metadata": {},
     "output_type": "execute_result"
    }
   ],
   "source": [
    "image_response.data[0].url"
   ]
  },
  {
   "cell_type": "markdown",
   "metadata": {},
   "source": [
    "## Whisper"
   ]
  },
  {
   "cell_type": "code",
   "execution_count": 5,
   "metadata": {},
   "outputs": [],
   "source": [
    "text_eng = 'This is a speech generation test in English.'\n",
    "text_chi = '这是一次人工生成音频的测试。'"
   ]
  },
  {
   "cell_type": "code",
   "execution_count": 8,
   "metadata": {},
   "outputs": [
    {
     "name": "stderr",
     "output_type": "stream",
     "text": [
      "/var/folders/qg/dfqs8vs52n398xqdq_nxjf1m0000gn/T/ipykernel_20236/842634556.py:6: DeprecationWarning: Due to a bug, this method doesn't actually stream the response content, `.with_streaming_response.method()` should be used instead\n",
      "  output.stream_to_file('../Data/test_eng.mp3')\n"
     ]
    }
   ],
   "source": [
    "output = client.audio.speech.create(\n",
    "    model='tts-1',\n",
    "    voice='alloy',\n",
    "    input=text_eng\n",
    ")\n",
    "output.stream_to_file('../Data/test_eng.mp3')"
   ]
  },
  {
   "cell_type": "code",
   "execution_count": 9,
   "metadata": {},
   "outputs": [
    {
     "name": "stderr",
     "output_type": "stream",
     "text": [
      "/var/folders/qg/dfqs8vs52n398xqdq_nxjf1m0000gn/T/ipykernel_20236/345990119.py:6: DeprecationWarning: Due to a bug, this method doesn't actually stream the response content, `.with_streaming_response.method()` should be used instead\n",
      "  output.stream_to_file('../Data/test_chi.mp3')\n"
     ]
    }
   ],
   "source": [
    "output = client.audio.speech.create(\n",
    "    model='tts-1',\n",
    "    voice='shimmer',\n",
    "    input=text_chi\n",
    ")\n",
    "output.stream_to_file('../Data/test_chi.mp3')"
   ]
  },
  {
   "cell_type": "code",
   "execution_count": null,
   "metadata": {},
   "outputs": [],
   "source": []
  }
 ],
 "metadata": {
  "kernelspec": {
   "display_name": "Python 3",
   "language": "python",
   "name": "python3"
  },
  "language_info": {
   "codemirror_mode": {
    "name": "ipython",
    "version": 3
   },
   "file_extension": ".py",
   "mimetype": "text/x-python",
   "name": "python",
   "nbconvert_exporter": "python",
   "pygments_lexer": "ipython3",
   "version": "3.11.7"
  }
 },
 "nbformat": 4,
 "nbformat_minor": 2
}
