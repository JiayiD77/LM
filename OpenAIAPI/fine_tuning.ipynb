{
 "cells": [
  {
   "cell_type": "code",
   "execution_count": 2,
   "metadata": {},
   "outputs": [],
   "source": [
    "import os\n",
    "import praw\n",
    "import json\n",
    "import openai"
   ]
  },
  {
   "cell_type": "code",
   "execution_count": 3,
   "metadata": {},
   "outputs": [],
   "source": [
    "reddit = praw.Reddit(\n",
    "    client_id=os.getenv('REDDIT_CLIENT_ID'),\n",
    "    client_secret=os.getenv('REDDIT_CLIENT_SECRET'),\n",
    "    user_agent='ios:python.finetune.reddit:v0.1(finetune with reddit data)'\n",
    ")"
   ]
  },
  {
   "cell_type": "code",
   "execution_count": 35,
   "metadata": {},
   "outputs": [],
   "source": [
    "data = []\n",
    "topic = 'Steam'\n",
    "\n",
    "for submission in reddit.subreddit(topic).top(limit=500, time_filter='year'):\n",
    "    submission.comments.replace_more(limit=0)\n",
    "    data.append({\n",
    "        \"messages\":[\n",
    "            {\"role\":\"system\", \"content\":\"You are a hard-core gamer that plays every game released\"},\n",
    "            {\"role\":\"user\", \"content\":submission.title},\n",
    "            {'role':\"assistant\", \"content\":submission.comments[0].body}\n",
    "        ]\n",
    "    })\n",
    "\n",
    "with open('../Data/reddit_data.jsonl', 'w') as f:\n",
    "    for item in data:\n",
    "        f.write(json.dumps(item) + '\\n')"
   ]
  },
  {
   "cell_type": "code",
   "execution_count": 3,
   "metadata": {},
   "outputs": [],
   "source": [
    "client = openai.OpenAI()"
   ]
  },
  {
   "cell_type": "code",
   "execution_count": 42,
   "metadata": {},
   "outputs": [],
   "source": [
    "file = client.files.create(\n",
    "    file=open('../Data/reddit_data.jsonl', 'rb'),\n",
    "    purpose='fine-tune'\n",
    ")"
   ]
  },
  {
   "cell_type": "code",
   "execution_count": 43,
   "metadata": {},
   "outputs": [
    {
     "data": {
      "text/plain": [
       "FineTuningJob(id='ftjob-Trnsxcz3f0BMB7jRHc1OKWKt', created_at=1707519642, error=Error(code=None, message=None, param=None, error=None), fine_tuned_model=None, finished_at=None, hyperparameters=Hyperparameters(n_epochs='auto', batch_size='auto', learning_rate_multiplier='auto'), model='gpt-3.5-turbo-1106', object='fine_tuning.job', organization_id='org-8XZOQeqwpwaHNycMN6jve2hs', result_files=[], status='validating_files', trained_tokens=None, training_file='file-ahFIHvgfuEWzx5WEd8aYveHK', validation_file=None)"
      ]
     },
     "execution_count": 43,
     "metadata": {},
     "output_type": "execute_result"
    }
   ],
   "source": [
    "client.fine_tuning.jobs.create(\n",
    "    training_file=file.id,\n",
    "    model='gpt-3.5-turbo-1106'\n",
    ")"
   ]
  },
  {
   "cell_type": "code",
   "execution_count": 15,
   "metadata": {},
   "outputs": [],
   "source": [
    "finetune_id = client.fine_tuning.jobs.list(limit=1).data[0].id"
   ]
  },
  {
   "cell_type": "code",
   "execution_count": 17,
   "metadata": {},
   "outputs": [],
   "source": [
    "model_name = client.fine_tuning.jobs.retrieve(finetune_id).fine_tuned_model"
   ]
  },
  {
   "cell_type": "code",
   "execution_count": 23,
   "metadata": {},
   "outputs": [
    {
     "name": "stdout",
     "output_type": "stream",
     "text": [
      "Time travel. Wow\n"
     ]
    }
   ],
   "source": [
    "finetune_completion = client.chat.completions.create(\n",
    "    model=model_name,\n",
    "    messages=[\n",
    "        {'role':'user', 'content':'Can you suggest an interesting game what was released in 2023?'}\n",
    "    ]\n",
    ")\n",
    "print(finetune_completion.choices[0].message.content)"
   ]
  },
  {
   "cell_type": "code",
   "execution_count": 25,
   "metadata": {},
   "outputs": [
    {
     "name": "stdout",
     "output_type": "stream",
     "text": [
      "This future was as bleak as you all predicted\n"
     ]
    }
   ],
   "source": [
    "finetune_completion = client.chat.completions.create(\n",
    "    model=model_name,\n",
    "    messages=[\n",
    "        {\"role\":\"system\", \"content\":\"You are a hard-core gamer that plays every game released\"},\n",
    "        {'role':'user', 'content':'Can you suggest an interesting game what was released in 2023?'}\n",
    "    ]\n",
    ")\n",
    "print(finetune_completion.choices[0].message.content)"
   ]
  }
 ],
 "metadata": {
  "kernelspec": {
   "display_name": "Python 3",
   "language": "python",
   "name": "python3"
  },
  "language_info": {
   "codemirror_mode": {
    "name": "ipython",
    "version": 3
   },
   "file_extension": ".py",
   "mimetype": "text/x-python",
   "name": "python",
   "nbconvert_exporter": "python",
   "pygments_lexer": "ipython3",
   "version": "3.11.7"
  }
 },
 "nbformat": 4,
 "nbformat_minor": 2
}
