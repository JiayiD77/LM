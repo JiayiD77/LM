{
 "cells": [
  {
   "cell_type": "code",
   "execution_count": 1,
   "metadata": {},
   "outputs": [],
   "source": [
    "import torch"
   ]
  },
  {
   "cell_type": "code",
   "execution_count": 15,
   "metadata": {},
   "outputs": [
    {
     "data": {
      "text/plain": [
       "tensor([[1., 0., 0., 0., 0., 0., 0., 0.],\n",
       "        [1., 1., 0., 0., 0., 0., 0., 0.],\n",
       "        [1., 1., 1., 0., 0., 0., 0., 0.],\n",
       "        [1., 1., 1., 1., 0., 0., 0., 0.],\n",
       "        [1., 1., 1., 1., 1., 0., 0., 0.],\n",
       "        [1., 1., 1., 1., 1., 1., 0., 0.],\n",
       "        [1., 1., 1., 1., 1., 1., 1., 0.],\n",
       "        [1., 1., 1., 1., 1., 1., 1., 1.]])"
      ]
     },
     "execution_count": 15,
     "metadata": {},
     "output_type": "execute_result"
    }
   ],
   "source": [
    "block_size = 8\n",
    "tril = torch.tril(torch.ones(block_size, block_size))\n",
    "tril"
   ]
  },
  {
   "cell_type": "code",
   "execution_count": 24,
   "metadata": {},
   "outputs": [],
   "source": [
    "weight = torch.rand(size=(2, 8, 8))"
   ]
  },
  {
   "cell_type": "code",
   "execution_count": 25,
   "metadata": {},
   "outputs": [
    {
     "data": {
      "text/plain": [
       "tensor([0.9594, 0.5737, 0.5985, 0.7875, 0.9830, 0.2920, 0.1491, 0.5450])"
      ]
     },
     "execution_count": 25,
     "metadata": {},
     "output_type": "execute_result"
    }
   ],
   "source": [
    "weight[0, 0]"
   ]
  },
  {
   "cell_type": "code",
   "execution_count": 26,
   "metadata": {},
   "outputs": [],
   "source": [
    "B,T,C = weight.shape"
   ]
  },
  {
   "cell_type": "code",
   "execution_count": 27,
   "metadata": {},
   "outputs": [
    {
     "data": {
      "text/plain": [
       "tensor([[[0.9594,   -inf,   -inf,   -inf,   -inf,   -inf,   -inf,   -inf],\n",
       "         [0.6628, 0.3855,   -inf,   -inf,   -inf,   -inf,   -inf,   -inf],\n",
       "         [0.0090, 0.3598, 0.5237,   -inf,   -inf,   -inf,   -inf,   -inf],\n",
       "         [0.8371, 0.7451, 0.8327, 0.3730,   -inf,   -inf,   -inf,   -inf],\n",
       "         [0.0197, 0.6828, 0.2064, 0.7634, 0.0088,   -inf,   -inf,   -inf],\n",
       "         [0.6321, 0.1725, 0.2342, 0.5802, 0.3121, 0.1468,   -inf,   -inf],\n",
       "         [0.6339, 0.7125, 0.5742, 0.2578, 0.0286, 0.0560, 0.3923,   -inf],\n",
       "         [0.9295, 0.6487, 0.5281, 0.4590, 0.1221, 0.7831, 0.3138, 0.5677]],\n",
       "\n",
       "        [[0.4897,   -inf,   -inf,   -inf,   -inf,   -inf,   -inf,   -inf],\n",
       "         [0.1426, 0.1316,   -inf,   -inf,   -inf,   -inf,   -inf,   -inf],\n",
       "         [0.8275, 0.2162, 0.2024,   -inf,   -inf,   -inf,   -inf,   -inf],\n",
       "         [0.3062, 0.0743, 0.9803, 0.6994,   -inf,   -inf,   -inf,   -inf],\n",
       "         [0.6355, 0.0366, 0.2125, 0.8169, 0.6259,   -inf,   -inf,   -inf],\n",
       "         [0.6074, 0.7242, 0.0808, 0.0051, 0.2799, 0.4010,   -inf,   -inf],\n",
       "         [0.8947, 0.2640, 0.8582, 0.5918, 0.9901, 0.1305, 0.5804,   -inf],\n",
       "         [0.8393, 0.7650, 0.1719, 0.2212, 0.7113, 0.8851, 0.6999, 0.8888]]])"
      ]
     },
     "execution_count": 27,
     "metadata": {},
     "output_type": "execute_result"
    }
   ],
   "source": [
    "weight.masked_fill(tril[:T, :T] == 0, float('-inf'))"
   ]
  },
  {
   "cell_type": "code",
   "execution_count": null,
   "metadata": {},
   "outputs": [],
   "source": []
  }
 ],
 "metadata": {
  "kernelspec": {
   "display_name": "base",
   "language": "python",
   "name": "python3"
  },
  "language_info": {
   "codemirror_mode": {
    "name": "ipython",
    "version": 3
   },
   "file_extension": ".py",
   "mimetype": "text/x-python",
   "name": "python",
   "nbconvert_exporter": "python",
   "pygments_lexer": "ipython3",
   "version": "3.9.13"
  }
 },
 "nbformat": 4,
 "nbformat_minor": 2
}
